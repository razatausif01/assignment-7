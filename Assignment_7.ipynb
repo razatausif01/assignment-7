{
  "cells": [
    {
      "cell_type": "markdown",
      "source": [
        "1.\tWrite a Python Program to find sum of array?\n",
        "2.\tWrite a Python Program to find largest element in an array?\n",
        "3.\tWrite a Python Program for array rotation?\n",
        "4.\tWrite a Python Program to Split the array and add the first part to the end?\n",
        "5.\tWrite a Python Program to check if given array is Monotonic?\n"
      ],
      "metadata": {
        "id": "0kM98nutTXV_"
      },
      "id": "0kM98nutTXV_"
    },
    {
      "cell_type": "markdown",
      "source": [
        "1.Write a Python Program to find sum of array"
      ],
      "metadata": {
        "id": "Aeta0j8WTiE-"
      },
      "id": "Aeta0j8WTiE-"
    },
    {
      "cell_type": "code",
      "source": [
        "# Python 3 code to find sum\n",
        "# of elements in given array\n",
        "# driver function\n",
        "arr = []\n",
        " \n",
        "# input values to list\n",
        "arr = [12, 3, 4, 15]\n",
        " \n",
        "# sum() is an inbuilt function in python that adds\n",
        "# all the elements in list,set and tuples and returns\n",
        "# the value\n",
        "ans = sum(arr)\n",
        " \n",
        "# display sum\n",
        "print('Sum of the array is ', ans)"
      ],
      "metadata": {
        "colab": {
          "base_uri": "https://localhost:8080/"
        },
        "id": "KCQcd27UTuKD",
        "outputId": "b33e1fb6-3faf-41fa-ac46-cc3cede6ce25"
      },
      "id": "KCQcd27UTuKD",
      "execution_count": 4,
      "outputs": [
        {
          "output_type": "stream",
          "name": "stdout",
          "text": [
            "Sum of the array is  34\n"
          ]
        }
      ]
    },
    {
      "cell_type": "markdown",
      "source": [
        "##\tWrite a Python Program to find largest element in an array"
      ],
      "metadata": {
        "id": "k4n5IYThc8xr"
      },
      "id": "k4n5IYThc8xr"
    },
    {
      "cell_type": "code",
      "source": [
        "# largest function\n",
        "def largest(arr,n):\n",
        "   #maximum element\n",
        "   max = arr[0]\n",
        "   # traverse the whole loop\n",
        "   for i in range(1, n):\n",
        "      if arr[i] > max:\n",
        "         max = arr[i]\n",
        "   return max\n",
        "# Driver Code\n",
        "arr = [23,1,32,67,2,34,12]\n",
        "n = len(arr)\n",
        "Ans = largest(arr,n)\n",
        "print (\"Largest element given in array is\",Ans)"
      ],
      "metadata": {
        "colab": {
          "base_uri": "https://localhost:8080/"
        },
        "id": "tzY6_-qFbjop",
        "outputId": "4b19a05c-423d-49df-b5a5-a4bb986942bd"
      },
      "id": "tzY6_-qFbjop",
      "execution_count": 5,
      "outputs": [
        {
          "output_type": "stream",
          "name": "stdout",
          "text": [
            "Largest element given in array is 67\n"
          ]
        }
      ]
    },
    {
      "cell_type": "markdown",
      "source": [
        "##Write a Python Program for array rotation?"
      ],
      "metadata": {
        "id": "VWZ20AhsemKy"
      },
      "id": "VWZ20AhsemKy"
    },
    {
      "cell_type": "code",
      "source": [
        "# function to rotate array by d elements using temp array\n",
        "def rotateArray(arr, n, d):\n",
        "    temp = []\n",
        "    i = 0\n",
        "    while (i < d):\n",
        "        temp.append(arr[i])\n",
        "        i = i + 1\n",
        "    i = 0\n",
        "    while (d < n):\n",
        "        arr[i] = arr[d]\n",
        "        i = i + 1\n",
        "        d = d + 1\n",
        "    arr[:] = arr[: i] + temp\n",
        "    return arr\n",
        " \n",
        " \n",
        "# Driver function to test above function\n",
        "arr = [1, 2, 3, 4, 5, 6, 7]\n",
        "print(\"Array after left rotation is: \", end=' ')\n",
        "print(rotateArray(arr, len(arr), 2))\n",
        " "
      ],
      "metadata": {
        "colab": {
          "base_uri": "https://localhost:8080/"
        },
        "id": "hM9HLYhXc-tX",
        "outputId": "a0371d4c-a6ce-45b0-f8e7-9e68c86604c3"
      },
      "id": "hM9HLYhXc-tX",
      "execution_count": 6,
      "outputs": [
        {
          "output_type": "stream",
          "name": "stdout",
          "text": [
            "Array after left rotation is:  [3, 4, 5, 6, 7, 1, 2]\n"
          ]
        }
      ]
    },
    {
      "cell_type": "markdown",
      "source": [
        "##Write a Python Program to Split the array and add the first part to the end"
      ],
      "metadata": {
        "id": "pPYdmNe-fm-3"
      },
      "id": "pPYdmNe-fm-3"
    },
    {
      "cell_type": "code",
      "source": [
        "# Python program to split array and move first\n",
        "# part to end.\n",
        " \n",
        "def splitArr(arr, n, k): \n",
        "    for i in range(0, k): \n",
        "        x = arr[0]\n",
        "        for j in range(0, n-1):\n",
        "            arr[j] = arr[j + 1]\n",
        "         \n",
        "        arr[n-1] = x\n",
        "         \n",
        " \n",
        "# main\n",
        "arr = [12, 10, 5, 6, 52, 36]\n",
        "n = len(arr)\n",
        "position = 2\n",
        " \n",
        "splitArr(arr, n, position)\n",
        " \n",
        "for i in range(0, n): \n",
        "    print(arr[i], end = ' ')"
      ],
      "metadata": {
        "colab": {
          "base_uri": "https://localhost:8080/"
        },
        "id": "JNx42L5YenOu",
        "outputId": "c0221a81-17c4-484c-afc3-1c40ad1f0d4d"
      },
      "id": "JNx42L5YenOu",
      "execution_count": 8,
      "outputs": [
        {
          "output_type": "stream",
          "name": "stdout",
          "text": [
            "5 6 52 36 12 10 "
          ]
        }
      ]
    },
    {
      "cell_type": "code",
      "source": [
        ""
      ],
      "metadata": {
        "id": "4Zidmt5jfoDU"
      },
      "id": "4Zidmt5jfoDU",
      "execution_count": null,
      "outputs": []
    }
  ],
  "metadata": {
    "kernelspec": {
      "display_name": "Python 3 (ipykernel)",
      "language": "python",
      "name": "python3"
    },
    "language_info": {
      "codemirror_mode": {
        "name": "ipython",
        "version": 3
      },
      "file_extension": ".py",
      "mimetype": "text/x-python",
      "name": "python",
      "nbconvert_exporter": "python",
      "pygments_lexer": "ipython3",
      "version": "3.9.7"
    },
    "colab": {
      "name": "Assignment_7.ipynb",
      "provenance": []
    }
  },
  "nbformat": 4,
  "nbformat_minor": 5
}